{
 "cells": [
  {
   "attachments": {},
   "cell_type": "markdown",
   "id": "6adc80fc",
   "metadata": {
    "nterop": {
     "id": "37"
    }
   },
   "source": [
    "# Prep files for ColBERT"
   ]
  },
  {
   "cell_type": "code",
   "execution_count": 32,
   "id": "289071cb",
   "metadata": {
    "nterop": {
     "id": "1"
    }
   },
   "outputs": [],
   "source": [
    "import json\n",
    "import pandas as pd\n",
    "import pickle as pkl"
   ]
  },
  {
   "attachments": {},
   "cell_type": "markdown",
   "id": "64aaef38",
   "metadata": {
    "nterop": {
     "id": "2"
    }
   },
   "source": [
    "### helpers"
   ]
  },
  {
   "cell_type": "code",
   "execution_count": 47,
   "id": "c82d331d",
   "metadata": {
    "nterop": {
     "id": "3"
    }
   },
   "outputs": [],
   "source": [
    "def write_tsv(df, path):\n",
    "    df.to_csv(path, index=False, header=None, sep='\\t')\n",
    "    \n",
    "def get_indices(split_name, path_splits=path_splits):\n",
    "    d = json.load(open(f'{path_splits}/{split_name}.json'))\n",
    "    return {int(x['id'].split('_')[-1]) for x in d}\n",
    "\n",
    "def paragraph_id(r) -> str:\n",
    "    f, a, p = r['file_idx'], r['article_idx'], r['paragraph_idx']\n",
    "    return f\"{f}_{a}_{p}\"\n",
    "\n",
    "def fix_ranks(rows: pd.DataFrame) -> pd.DataFrame:\n",
    "    pids = set()\n",
    "    r = 1\n",
    "    vals = []\n",
    "    \n",
    "    for _, row in rows.iterrows():\n",
    "        qid, pid, rank = row.get('qid'), row.get('pid'), row.get('rank')\n",
    "        if pid not in pids:\n",
    "            pids.add(pid)\n",
    "            vals.append({'qid': qid, 'pid': pid, 'rank': r})\n",
    "            r += 1\n",
    "    \n",
    "    return pd.DataFrame(vals)\n",
    "\n",
    "def dedup_ranking(df):\n",
    "    return (\n",
    "        rankings_dev\n",
    "        .groupby('qid')\n",
    "        .apply(fix_ranks)\n",
    "        .reset_index(drop=True)\n",
    "    )"
   ]
  },
  {
   "attachments": {},
   "cell_type": "markdown",
   "id": "a2e82b94",
   "metadata": {
    "nterop": {
     "id": "4"
    }
   },
   "source": [
    "### params"
   ]
  },
  {
   "cell_type": "code",
   "execution_count": 66,
   "id": "6d691e50",
   "metadata": {
    "nterop": {
     "id": "5"
    }
   },
   "outputs": [],
   "source": [
    "path_paragraphs = 'wiki-7500-paragraphs.csv'\n",
    "path_splits = 'splits_7500'\n",
    "path_wiki_res = 'wiki_res_7500.pkl'\n",
    "path_out_paragraphs = 'paragraphs.tsv'\n",
    "path_out_rankings_dev = 'rankings_dev.tsv'\n",
    "path_out_rankings_train = 'rankings_train.tsv'\n",
    "path_nq_train = 'train_preprocessed.json'\n",
    "path_questions = 'questions.tsv'\n",
    "path_questions_dev = 'questions_dev.tsv'\n",
    "\n",
    "n = 7_500"
   ]
  },
  {
   "attachments": {},
   "cell_type": "markdown",
   "id": "5d5a7e10",
   "metadata": {
    "nterop": {
     "id": "6"
    }
   },
   "source": [
    "### get results"
   ]
  },
  {
   "cell_type": "code",
   "execution_count": 36,
   "id": "c8a35754",
   "metadata": {
    "nterop": {
     "id": "7"
    }
   },
   "outputs": [],
   "source": [
    "results = pkl.load(open(path_wiki_res, 'rb'))"
   ]
  },
  {
   "attachments": {},
   "cell_type": "markdown",
   "id": "7fae1189",
   "metadata": {
    "nterop": {
     "id": "8"
    }
   },
   "source": [
    "### paragraphs"
   ]
  },
  {
   "cell_type": "code",
   "execution_count": 3,
   "id": "2be11df0",
   "metadata": {
    "nterop": {
     "id": "9"
    }
   },
   "outputs": [],
   "source": [
    "df_paragraph = pd.read_csv(path_paragraphs)"
   ]
  },
  {
   "cell_type": "code",
   "execution_count": 4,
   "id": "6b8ade78",
   "metadata": {
    "nterop": {
     "id": "10"
    }
   },
   "outputs": [
    {
     "data": {
      "text/plain": [
       "1099066"
      ]
     },
     "execution_count": 4,
     "metadata": {
      "nterop": {
       "id": "11"
      }
     },
     "output_type": "execute_result"
    }
   ],
   "source": [
    "len(df_paragraph)"
   ]
  },
  {
   "cell_type": "code",
   "execution_count": 7,
   "id": "13acfde5",
   "metadata": {
    "nterop": {
     "id": "12"
    }
   },
   "outputs": [
    {
     "data": {
      "text/html": [
       "<div>\n",
       "<style scoped>\n",
       "    .dataframe tbody tr th:only-of-type {\n",
       "        vertical-align: middle;\n",
       "    }\n",
       "\n",
       "    .dataframe tbody tr th {\n",
       "        vertical-align: top;\n",
       "    }\n",
       "\n",
       "    .dataframe thead th {\n",
       "        text-align: right;\n",
       "    }\n",
       "</style>\n",
       "<table border=\"1\" class=\"dataframe\">\n",
       "  <thead>\n",
       "    <tr style=\"text-align: right;\">\n",
       "      <th></th>\n",
       "      <th>file</th>\n",
       "      <th>file_idx</th>\n",
       "      <th>article_idx</th>\n",
       "      <th>paragraph_idx</th>\n",
       "      <th>title</th>\n",
       "      <th>paragraph_cnt</th>\n",
       "      <th>paragraph</th>\n",
       "      <th>paragraph_char_cnt</th>\n",
       "    </tr>\n",
       "  </thead>\n",
       "  <tbody>\n",
       "    <tr>\n",
       "      <th>0</th>\n",
       "      <td>/data/dph-data/wikidump/20181220_concat/0000</td>\n",
       "      <td>0</td>\n",
       "      <td>12</td>\n",
       "      <td>0</td>\n",
       "      <td>Ochlodes yuma</td>\n",
       "      <td>1</td>\n",
       "      <td>Ochlodes yuma, the Yuma skipper, is a species...</td>\n",
       "      <td>260</td>\n",
       "    </tr>\n",
       "    <tr>\n",
       "      <th>1</th>\n",
       "      <td>/data/dph-data/wikidump/20181220_concat/0000</td>\n",
       "      <td>0</td>\n",
       "      <td>32</td>\n",
       "      <td>2</td>\n",
       "      <td>Ocho Rios</td>\n",
       "      <td>3</td>\n",
       "      <td>The town has restaurants, and in Margaritavil...</td>\n",
       "      <td>955</td>\n",
       "    </tr>\n",
       "    <tr>\n",
       "      <th>2</th>\n",
       "      <td>/data/dph-data/wikidump/20181220_concat/0000</td>\n",
       "      <td>0</td>\n",
       "      <td>34</td>\n",
       "      <td>1</td>\n",
       "      <td>Ocho apellidos vascos</td>\n",
       "      <td>4</td>\n",
       "      <td>The weekend of its premiere, the film gathere...</td>\n",
       "      <td>604</td>\n",
       "    </tr>\n",
       "  </tbody>\n",
       "</table>\n",
       "</div>"
      ],
      "text/plain": [
       "                                           file  file_idx  article_idx  \\\n",
       "0  /data/dph-data/wikidump/20181220_concat/0000         0           12   \n",
       "1  /data/dph-data/wikidump/20181220_concat/0000         0           32   \n",
       "2  /data/dph-data/wikidump/20181220_concat/0000         0           34   \n",
       "\n",
       "   paragraph_idx                  title  paragraph_cnt  \\\n",
       "0              0          Ochlodes yuma              1   \n",
       "1              2              Ocho Rios              3   \n",
       "2              1  Ocho apellidos vascos              4   \n",
       "\n",
       "                                           paragraph  paragraph_char_cnt  \n",
       "0   Ochlodes yuma, the Yuma skipper, is a species...                 260  \n",
       "1   The town has restaurants, and in Margaritavil...                 955  \n",
       "2   The weekend of its premiere, the film gathere...                 604  "
      ]
     },
     "execution_count": 7,
     "metadata": {
      "nterop": {
       "id": "13"
      }
     },
     "output_type": "execute_result"
    }
   ],
   "source": [
    "df_paragraph.head(3)"
   ]
  },
  {
   "cell_type": "code",
   "execution_count": 13,
   "id": "f6db1a0d",
   "metadata": {
    "nterop": {
     "id": "14"
    }
   },
   "outputs": [],
   "source": [
    "paragraphs = (\n",
    "    df_paragraph\n",
    "    .assign(pid=range(len(df_paragraph)))\n",
    "    .assign(\n",
    "        text=(\n",
    "            df_paragraph.paragraph\n",
    "            .str.replace('\\n', '')\n",
    "            .str.replace('\\t', '')\n",
    "        )\n",
    "    )\n",
    ")    "
   ]
  },
  {
   "cell_type": "code",
   "execution_count": null,
   "id": "4025b567",
   "metadata": {
    "nterop": {
     "id": "15"
    }
   },
   "outputs": [],
   "source": [
    "write_tsv(path_out_paragraphs)"
   ]
  },
  {
   "cell_type": "code",
   "execution_count": 17,
   "id": "339f7453",
   "metadata": {
    "nterop": {
     "id": "16"
    }
   },
   "outputs": [
    {
     "name": "stdout",
     "output_type": "stream",
     "text": [
      "1099066 paragraphs.tsv\r\n"
     ]
    }
   ],
   "source": [
    "!wc -l $path_out_paragraphs"
   ]
  },
  {
   "cell_type": "code",
   "execution_count": 18,
   "id": "9d3dff2b",
   "metadata": {
    "nterop": {
     "id": "17"
    }
   },
   "outputs": [
    {
     "name": "stdout",
     "output_type": "stream",
     "text": [
      "-rw-r--r-- 1 root root 842M Jun  2 23:25 paragraphs.tsv\r\n"
     ]
    }
   ],
   "source": [
    "!ls -lh $path_out_paragraphs"
   ]
  },
  {
   "cell_type": "code",
   "execution_count": 30,
   "id": "e3305b87",
   "metadata": {
    "nterop": {
     "id": "18"
    }
   },
   "outputs": [],
   "source": [
    "%%time\n",
    "paragraphs_to_idx = {\n",
    "    paragraph_id(row): idx\n",
    "    for idx, row in df_paragraph.iterrows()\n",
    "}"
   ]
  },
  {
   "attachments": {},
   "cell_type": "markdown",
   "id": "d6e472de",
   "metadata": {
    "nterop": {
     "id": "19"
    }
   },
   "source": [
    "### get indices"
   ]
  },
  {
   "cell_type": "code",
   "execution_count": 23,
   "id": "a29c02d6",
   "metadata": {
    "nterop": {
     "id": "20"
    }
   },
   "outputs": [],
   "source": [
    "train_idxs = get_indices('train')\n",
    "dev_idxs = get_indices('dev')\n",
    "test_idxs = get_indices('test')"
   ]
  },
  {
   "attachments": {},
   "cell_type": "markdown",
   "id": "80959a59",
   "metadata": {
    "nterop": {
     "id": "21"
    }
   },
   "source": [
    "### get rankings"
   ]
  },
  {
   "cell_type": "code",
   "execution_count": 37,
   "id": "24487d10",
   "metadata": {
    "nterop": {
     "id": "22"
    }
   },
   "outputs": [
    {
     "name": "stdout",
     "output_type": "stream",
     "text": [
      "CPU times: user 5.57 s, sys: 40 ms, total: 5.61 s\n",
      "Wall time: 5.61 s\n"
     ]
    }
   ],
   "source": [
    "%%time\n",
    "rankings = pd.DataFrame(\n",
    "    {\n",
    "        'qid': idx,\n",
    "        'pid': paragraphs_to_idx[f\"{m.article.file_idx}_{m.article.article_idx}_{m.paragraph_idx}\"],\n",
    "        'rank': r + 1,\n",
    "    }\n",
    "    for idx in range(len(results.matches_answers))\n",
    "    for r, m in enumerate(\n",
    "        list(results.matches_answers[idx])\n",
    "        + list(results.matches_question[idx])\n",
    "    )\n",
    ")"
   ]
  },
  {
   "cell_type": "code",
   "execution_count": 38,
   "id": "8abca99e",
   "metadata": {
    "nterop": {
     "id": "23"
    }
   },
   "outputs": [
    {
     "data": {
      "text/plain": [
       "1537500"
      ]
     },
     "execution_count": 38,
     "metadata": {
      "nterop": {
       "id": "24"
      }
     },
     "output_type": "execute_result"
    }
   ],
   "source": [
    "len(rankings)"
   ]
  },
  {
   "cell_type": "code",
   "execution_count": 43,
   "id": "1e563b29",
   "metadata": {
    "nterop": {
     "id": "25"
    }
   },
   "outputs": [
    {
     "data": {
      "text/html": [
       "<div>\n",
       "<style scoped>\n",
       "    .dataframe tbody tr th:only-of-type {\n",
       "        vertical-align: middle;\n",
       "    }\n",
       "\n",
       "    .dataframe tbody tr th {\n",
       "        vertical-align: top;\n",
       "    }\n",
       "\n",
       "    .dataframe thead th {\n",
       "        text-align: right;\n",
       "    }\n",
       "</style>\n",
       "<table border=\"1\" class=\"dataframe\">\n",
       "  <thead>\n",
       "    <tr style=\"text-align: right;\">\n",
       "      <th></th>\n",
       "      <th>qid</th>\n",
       "      <th>pid</th>\n",
       "      <th>rank</th>\n",
       "    </tr>\n",
       "  </thead>\n",
       "  <tbody>\n",
       "    <tr>\n",
       "      <th>1242124</th>\n",
       "      <td>6059</td>\n",
       "      <td>239386</td>\n",
       "      <td>30</td>\n",
       "    </tr>\n",
       "    <tr>\n",
       "      <th>1091145</th>\n",
       "      <td>5322</td>\n",
       "      <td>91320</td>\n",
       "      <td>136</td>\n",
       "    </tr>\n",
       "    <tr>\n",
       "      <th>1180975</th>\n",
       "      <td>5760</td>\n",
       "      <td>877775</td>\n",
       "      <td>176</td>\n",
       "    </tr>\n",
       "  </tbody>\n",
       "</table>\n",
       "</div>"
      ],
      "text/plain": [
       "          qid     pid  rank\n",
       "1242124  6059  239386    30\n",
       "1091145  5322   91320   136\n",
       "1180975  5760  877775   176"
      ]
     },
     "execution_count": 43,
     "metadata": {
      "nterop": {
       "id": "26"
      }
     },
     "output_type": "execute_result"
    }
   ],
   "source": [
    "rankings.sample(3)"
   ]
  },
  {
   "cell_type": "code",
   "execution_count": 44,
   "id": "405ef161",
   "metadata": {
    "nterop": {
     "id": "27"
    }
   },
   "outputs": [],
   "source": [
    "rankings_train = rankings[rankings.qid.isin(train_idxs)]\n",
    "rankings_dev = rankings[rankings.qid.isin(dev_idxs)]\n",
    "assert (len(rankings) - (len(rankings_dev) + len(rankings_train))) == len(rankings_dev)"
   ]
  },
  {
   "cell_type": "code",
   "execution_count": 48,
   "id": "559d7e80",
   "metadata": {
    "nterop": {
     "id": "28"
    }
   },
   "outputs": [],
   "source": [
    "rankings_dev_dedup = dedup_ranking(rankings_dev)"
   ]
  },
  {
   "cell_type": "code",
   "execution_count": 53,
   "id": "8bc6d542",
   "metadata": {
    "nterop": {
     "id": "29"
    }
   },
   "outputs": [
    {
     "data": {
      "text/html": [
       "<div>\n",
       "<style scoped>\n",
       "    .dataframe tbody tr th:only-of-type {\n",
       "        vertical-align: middle;\n",
       "    }\n",
       "\n",
       "    .dataframe tbody tr th {\n",
       "        vertical-align: top;\n",
       "    }\n",
       "\n",
       "    .dataframe thead th {\n",
       "        text-align: right;\n",
       "    }\n",
       "</style>\n",
       "<table border=\"1\" class=\"dataframe\">\n",
       "  <thead>\n",
       "    <tr style=\"text-align: right;\">\n",
       "      <th></th>\n",
       "      <th>qid</th>\n",
       "      <th>pid</th>\n",
       "      <th>rank</th>\n",
       "    </tr>\n",
       "  </thead>\n",
       "  <tbody>\n",
       "    <tr>\n",
       "      <th>0</th>\n",
       "      <td>14</td>\n",
       "      <td>1020453</td>\n",
       "      <td>1</td>\n",
       "    </tr>\n",
       "    <tr>\n",
       "      <th>1</th>\n",
       "      <td>14</td>\n",
       "      <td>547325</td>\n",
       "      <td>2</td>\n",
       "    </tr>\n",
       "    <tr>\n",
       "      <th>2</th>\n",
       "      <td>14</td>\n",
       "      <td>1020392</td>\n",
       "      <td>3</td>\n",
       "    </tr>\n",
       "  </tbody>\n",
       "</table>\n",
       "</div>"
      ],
      "text/plain": [
       "   qid      pid  rank\n",
       "0   14  1020453     1\n",
       "1   14   547325     2\n",
       "2   14  1020392     3"
      ]
     },
     "execution_count": 53,
     "metadata": {
      "nterop": {
       "id": "30"
      }
     },
     "output_type": "execute_result"
    }
   ],
   "source": [
    "rankings_dev_dedup.head(3)"
   ]
  },
  {
   "cell_type": "code",
   "execution_count": 51,
   "id": "f7a72040",
   "metadata": {
    "nterop": {
     "id": "31"
    }
   },
   "outputs": [],
   "source": [
    "write_tsv(rankings_train, path_out_rankings_train)\n",
    "write_tsv(rankings_dev_dedup, path_out_rankings_dev)"
   ]
  },
  {
   "attachments": {},
   "cell_type": "markdown",
   "id": "c1f80716",
   "metadata": {
    "nterop": {
     "id": "32"
    }
   },
   "source": [
    "### questions"
   ]
  },
  {
   "cell_type": "code",
   "execution_count": 65,
   "id": "0f2326cd",
   "metadata": {
    "nterop": {
     "id": "33"
    }
   },
   "outputs": [],
   "source": [
    "df_questions = pd.DataFrame(\n",
    "    json.load(open(path_nq_train))['data'][:n]\n",
    ")\n",
    "df_questions = df_questions.assign(\n",
    "    id=df_questions.id.str.split('_').str[-1].astype(int)\n",
    ")[['id', 'question']]\n",
    "df_questions_dev = df_questions[df_questions.isin(dev_idxs)]"
   ]
  },
  {
   "cell_type": "code",
   "execution_count": 63,
   "id": "d7a84112",
   "metadata": {
    "nterop": {
     "id": "34"
    }
   },
   "outputs": [
    {
     "data": {
      "text/html": [
       "<div>\n",
       "<style scoped>\n",
       "    .dataframe tbody tr th:only-of-type {\n",
       "        vertical-align: middle;\n",
       "    }\n",
       "\n",
       "    .dataframe tbody tr th {\n",
       "        vertical-align: top;\n",
       "    }\n",
       "\n",
       "    .dataframe thead th {\n",
       "        text-align: right;\n",
       "    }\n",
       "</style>\n",
       "<table border=\"1\" class=\"dataframe\">\n",
       "  <thead>\n",
       "    <tr style=\"text-align: right;\">\n",
       "      <th></th>\n",
       "      <th>id</th>\n",
       "      <th>question</th>\n",
       "      <th>answers</th>\n",
       "    </tr>\n",
       "  </thead>\n",
       "  <tbody>\n",
       "    <tr>\n",
       "      <th>2014</th>\n",
       "      <td>2014</td>\n",
       "      <td>who plays teenage jamie in one tree hill</td>\n",
       "      <td>[Jackson Brundage]</td>\n",
       "    </tr>\n",
       "    <tr>\n",
       "      <th>340</th>\n",
       "      <td>340</td>\n",
       "      <td>who played leatherface in texas chainsaw massa...</td>\n",
       "      <td>[Andrew Bryniarski]</td>\n",
       "    </tr>\n",
       "    <tr>\n",
       "      <th>6922</th>\n",
       "      <td>6922</td>\n",
       "      <td>what does mono no aware mean in japanese</td>\n",
       "      <td>[the pathos of things]</td>\n",
       "    </tr>\n",
       "  </tbody>\n",
       "</table>\n",
       "</div>"
      ],
      "text/plain": [
       "        id                                           question  \\\n",
       "2014  2014           who plays teenage jamie in one tree hill   \n",
       "340    340  who played leatherface in texas chainsaw massa...   \n",
       "6922  6922           what does mono no aware mean in japanese   \n",
       "\n",
       "                     answers  \n",
       "2014      [Jackson Brundage]  \n",
       "340      [Andrew Bryniarski]  \n",
       "6922  [the pathos of things]  "
      ]
     },
     "execution_count": 63,
     "metadata": {
      "nterop": {
       "id": "35"
      }
     },
     "output_type": "execute_result"
    }
   ],
   "source": [
    "df_questions.sample(3)"
   ]
  },
  {
   "cell_type": "code",
   "execution_count": 67,
   "id": "080d8b19",
   "metadata": {
    "nterop": {
     "id": "36"
    }
   },
   "outputs": [],
   "source": [
    "write_tsv(df_questions, path_questions)\n",
    "write_tsv(df_questions, path_questions_dev)"
   ]
  }
 ],
 "metadata": {
  "hide_input": false,
  "kernelspec": {
   "display_name": "Python 3",
   "language": "python",
   "name": "python3"
  },
  "language_info": {
   "codemirror_mode": {
    "name": "ipython",
    "version": 3
   },
   "file_extension": ".py",
   "mimetype": "text/x-python",
   "name": "python",
   "nbconvert_exporter": "python",
   "pygments_lexer": "ipython3",
   "version": "3.7.10"
  },
  "nterop": {
   "seedId": "37"
  }
 },
 "nbformat": 4,
 "nbformat_minor": 5
}
