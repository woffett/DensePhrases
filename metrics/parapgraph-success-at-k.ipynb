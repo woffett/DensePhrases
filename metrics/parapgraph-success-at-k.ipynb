{
 "cells": [
  {
   "cell_type": "code",
   "execution_count": 1,
   "id": "d10ea081",
   "metadata": {
    "nterop": {
     "id": "1"
    }
   },
   "outputs": [],
   "source": [
    "from glob import glob\n",
    "import pickle as pkl\n",
    "from typing import List"
   ]
  },
  {
   "attachments": {},
   "cell_type": "markdown",
   "id": "d53fd3dd",
   "metadata": {
    "nterop": {
     "id": "2"
    }
   },
   "source": [
    "### get data"
   ]
  },
  {
   "cell_type": "code",
   "execution_count": 2,
   "id": "2b5aaff8",
   "metadata": {
    "nterop": {
     "id": "3"
    }
   },
   "outputs": [
    {
     "name": "stdout",
     "output_type": "stream",
     "text": [
      "-rw-r--r-- 1 root root  25K May 30 00:51 answers.pkl\r\n",
      "-rw-r--r-- 1 root root 8.1M May 30 00:51 evidences.pkl\r\n",
      "-rw-r--r-- 1 root root 238K May 30 00:51 predictions.pkl\r\n",
      "-rw-r--r-- 1 root root  14K May 30 00:51 qids.pkl\r\n",
      "-rw-r--r-- 1 root root    4 May 30 00:51 q_tokens.pkl\r\n",
      "-rw-r--r-- 1 root root  42K May 30 00:51 questions.pkl\r\n",
      "-rw-r--r-- 1 root root  95K May 30 00:51 scores.pkl\r\n",
      "-rw-r--r-- 1 root root 347K May 30 00:51 titles.pkl\r\n"
     ]
    }
   ],
   "source": [
    "!ls -lh *.pkl"
   ]
  },
  {
   "cell_type": "code",
   "execution_count": 3,
   "id": "804dae21",
   "metadata": {
    "nterop": {
     "id": "4"
    }
   },
   "outputs": [
    {
     "data": {
      "text/plain": [
       "dict_keys(['questions', 'answers', 'scores', 'titles', 'qids', 'predictions', 'evidences'])"
      ]
     },
     "execution_count": 3,
     "metadata": {
      "nterop": {
       "id": "5"
      }
     },
     "output_type": "execute_result"
    }
   ],
   "source": [
    "vals = {\n",
    "    f.split('.pkl')[0]: pkl.load(open(f, 'rb'))\n",
    "    for f in glob('*.pkl')\n",
    "    if 'q_tokens' not in f  # this is empty\n",
    "}\n",
    "iters = ['answers', 'scores', 'titles', 'predictions', 'evidences']\n",
    "vals.keys()"
   ]
  },
  {
   "attachments": {},
   "cell_type": "markdown",
   "id": "6e89836b",
   "metadata": {
    "nterop": {
     "id": "6"
    }
   },
   "source": [
    "### evidence <=> paragraph"
   ]
  },
  {
   "cell_type": "code",
   "execution_count": 4,
   "id": "04ff2218",
   "metadata": {
    "nterop": {
     "id": "7"
    }
   },
   "outputs": [
    {
     "data": {
      "text/plain": [
       "'Today\\'s autodialer supposedly runs a smarter software, claiming a less than 2% hangup rate. However, most telemarketing companies place thousands of calls an hour, bringing that 2% back up to an annoying level. Ray Bradbury wrote a story, \"Number of the ghost - 777888999\", about a telephone switch box that gained sentience. Its first order of business in the world, stalking. Eventually the person documenting the calls traced it down to a specific phone box and was summarily executed by said box through electrocution.'"
      ]
     },
     "execution_count": 4,
     "metadata": {
      "nterop": {
       "id": "8"
      }
     },
     "output_type": "execute_result"
    }
   ],
   "source": [
    "vals['evidences'][0][0]"
   ]
  },
  {
   "attachments": {},
   "cell_type": "markdown",
   "id": "60ab09b7",
   "metadata": {
    "nterop": {
     "id": "9"
    }
   },
   "source": [
    "### sanity check: predictions are extracted from the \"evidence\""
   ]
  },
  {
   "cell_type": "code",
   "execution_count": 12,
   "id": "f39d9e43",
   "metadata": {
    "nterop": {
     "id": "10"
    }
   },
   "outputs": [
    {
     "data": {
      "text/plain": [
       "['electrocution.',\n",
       " 'nasal fracture',\n",
       " 'spasmodic dysphonia.',\n",
       " 'exaggerated jaw vibrato\"',\n",
       " 'straining his vocal cords',\n",
       " 'kidney failure',\n",
       " 'Botox shots',\n",
       " 'weak',\n",
       " 'drugs',\n",
       " 'a bizarre accident',\n",
       " 'A middle ear infection',\n",
       " 'falling from a ladder',\n",
       " 'scarlet fever and measles.',\n",
       " 'throat cancer surgery',\n",
       " 'digitally erased',\n",
       " 'abductor spasmodic dysphonia,']"
      ]
     },
     "execution_count": 12,
     "metadata": {
      "nterop": {
       "id": "11"
      }
     },
     "output_type": "execute_result"
    }
   ],
   "source": [
    "vals['predictions'][0]"
   ]
  },
  {
   "cell_type": "code",
   "execution_count": 5,
   "id": "7d777546",
   "metadata": {
    "nterop": {
     "id": "12"
    }
   },
   "outputs": [
    {
     "data": {
      "text/plain": [
       "'electrocution.'"
      ]
     },
     "execution_count": 5,
     "metadata": {
      "nterop": {
       "id": "13"
      }
     },
     "output_type": "execute_result"
    }
   ],
   "source": [
    "vals['predictions'][0][0]"
   ]
  },
  {
   "cell_type": "code",
   "execution_count": 6,
   "id": "2d8dba89",
   "metadata": {
    "nterop": {
     "id": "14"
    }
   },
   "outputs": [],
   "source": [
    "assert all(\n",
    "    p in e\n",
    "    for es, ps in zip(vals['evidences'], vals['predictions'])\n",
    "    for e, p in zip(es, ps)\n",
    ")"
   ]
  },
  {
   "attachments": {},
   "cell_type": "markdown",
   "id": "84ec19fb",
   "metadata": {
    "nterop": {
     "id": "15"
    }
   },
   "source": [
    "### sanity check: make sure things are the same length"
   ]
  },
  {
   "cell_type": "code",
   "execution_count": 7,
   "id": "55bed1cb",
   "metadata": {
    "nterop": {
     "id": "16"
    }
   },
   "outputs": [],
   "source": [
    "assert all(\n",
    "    len(s) == len(e) == len(p) == len(t)\n",
    "    for s, e, p, t in zip(\n",
    "        vals['scores'],\n",
    "        vals['evidences'],\n",
    "        vals['predictions'],\n",
    "        vals['titles'],\n",
    "    )\n",
    ")"
   ]
  },
  {
   "attachments": {},
   "cell_type": "markdown",
   "id": "9d90a986",
   "metadata": {
    "nterop": {
     "id": "17"
    }
   },
   "source": [
    "### sanity check: all scores are sorted"
   ]
  },
  {
   "cell_type": "code",
   "execution_count": 8,
   "id": "7bc23ce9",
   "metadata": {
    "nterop": {
     "id": "18"
    }
   },
   "outputs": [],
   "source": [
    "assert all(\n",
    "    s == sorted(s, reverse=True)\n",
    "    for s in vals['scores']\n",
    ")"
   ]
  },
  {
   "attachments": {},
   "cell_type": "markdown",
   "id": "9f8ddbb5",
   "metadata": {
    "nterop": {
     "id": "19"
    }
   },
   "source": [
    "### success @ k"
   ]
  },
  {
   "cell_type": "code",
   "execution_count": 9,
   "id": "7c4929e7",
   "metadata": {
    "nterop": {
     "id": "20"
    }
   },
   "outputs": [],
   "source": [
    "def success_at_k_one(answers: List[str], evidences: List[str], k: int) -> bool:\n",
    "    \"\"\"\n",
    "    for a single instance.\n",
    "    \n",
    "    any of the answers is found in the top k evidence / paragraph\n",
    "    this assumes that the evidence is in the same sorted order as `scores`\n",
    "    \"\"\"\n",
    "\n",
    "    return any(\n",
    "        a in e\n",
    "        for a in answers\n",
    "        for e in evidences[:k]\n",
    "    )\n",
    "\n",
    "def success_at_k(answers: List[List[int]], evidences: List[List[str]], k: int) -> float:\n",
    "    \"\"\"\n",
    "    for a collection. just count the fraction of success@k's.\n",
    "    \"\"\"\n",
    "    n = len(answers)\n",
    "    return sum(\n",
    "        success_at_k_one(a, e, k)\n",
    "        for a, e in zip(answers, evidences)\n",
    "    ) / n"
   ]
  },
  {
   "attachments": {},
   "cell_type": "markdown",
   "id": "c7ed0cdc",
   "metadata": {
    "nterop": {
     "id": "21"
    }
   },
   "source": [
    "### compute for different values of `k`"
   ]
  },
  {
   "cell_type": "code",
   "execution_count": 10,
   "id": "90149018",
   "metadata": {
    "nterop": {
     "id": "22"
    }
   },
   "outputs": [
    {
     "data": {
      "image/png": "[encoded data removed]",
      "text/plain": [
       "<Figure size 864x576 with 1 Axes>"
      ]
     },
     "metadata": {
      "needs_background": "light",
      "nterop": {
       "id": "23"
      }
     },
     "output_type": "display_data"
    }
   ],
   "source": [
    "df = pd.DataFrame(\n",
    "    {\n",
    "        \"k\": k,\n",
    "        \"Success @ K\": success_at_k(\n",
    "            vals['answers'],\n",
    "            vals['evidences'],\n",
    "            k,\n",
    "        ),\n",
    "    }\n",
    "    for k in range(1, 20 + 1)\n",
    ").set_index('k')\n",
    "df.plot(figsize=(12, 8))\n",
    "_ = plt.ylim([0, 1])"
   ]
  },
  {
   "cell_type": "code",
   "execution_count": 11,
   "id": "4f3e03c6",
   "metadata": {
    "nterop": {
     "id": "24"
    }
   },
   "outputs": [
    {
     "data": {
      "text/html": [
       "<div>\n",
       "<style scoped>\n",
       "    .dataframe tbody tr th:only-of-type {\n",
       "        vertical-align: middle;\n",
       "    }\n",
       "\n",
       "    .dataframe tbody tr th {\n",
       "        vertical-align: top;\n",
       "    }\n",
       "\n",
       "    .dataframe thead th {\n",
       "        text-align: right;\n",
       "    }\n",
       "</style>\n",
       "<table border=\"1\" class=\"dataframe\">\n",
       "  <thead>\n",
       "    <tr style=\"text-align: right;\">\n",
       "      <th></th>\n",
       "      <th>Success @ K</th>\n",
       "    </tr>\n",
       "    <tr>\n",
       "      <th>k</th>\n",
       "      <th></th>\n",
       "    </tr>\n",
       "  </thead>\n",
       "  <tbody>\n",
       "    <tr>\n",
       "      <th>1</th>\n",
       "      <td>0.421333</td>\n",
       "    </tr>\n",
       "    <tr>\n",
       "      <th>2</th>\n",
       "      <td>0.518667</td>\n",
       "    </tr>\n",
       "    <tr>\n",
       "      <th>3</th>\n",
       "      <td>0.553333</td>\n",
       "    </tr>\n",
       "    <tr>\n",
       "      <th>4</th>\n",
       "      <td>0.582667</td>\n",
       "    </tr>\n",
       "    <tr>\n",
       "      <th>5</th>\n",
       "      <td>0.593333</td>\n",
       "    </tr>\n",
       "    <tr>\n",
       "      <th>6</th>\n",
       "      <td>0.612000</td>\n",
       "    </tr>\n",
       "    <tr>\n",
       "      <th>7</th>\n",
       "      <td>0.620000</td>\n",
       "    </tr>\n",
       "    <tr>\n",
       "      <th>8</th>\n",
       "      <td>0.630667</td>\n",
       "    </tr>\n",
       "    <tr>\n",
       "      <th>9</th>\n",
       "      <td>0.640000</td>\n",
       "    </tr>\n",
       "    <tr>\n",
       "      <th>10</th>\n",
       "      <td>0.642667</td>\n",
       "    </tr>\n",
       "    <tr>\n",
       "      <th>11</th>\n",
       "      <td>0.646667</td>\n",
       "    </tr>\n",
       "    <tr>\n",
       "      <th>12</th>\n",
       "      <td>0.649333</td>\n",
       "    </tr>\n",
       "    <tr>\n",
       "      <th>13</th>\n",
       "      <td>0.656000</td>\n",
       "    </tr>\n",
       "    <tr>\n",
       "      <th>14</th>\n",
       "      <td>0.657333</td>\n",
       "    </tr>\n",
       "    <tr>\n",
       "      <th>15</th>\n",
       "      <td>0.657333</td>\n",
       "    </tr>\n",
       "    <tr>\n",
       "      <th>16</th>\n",
       "      <td>0.657333</td>\n",
       "    </tr>\n",
       "    <tr>\n",
       "      <th>17</th>\n",
       "      <td>0.657333</td>\n",
       "    </tr>\n",
       "    <tr>\n",
       "      <th>18</th>\n",
       "      <td>0.657333</td>\n",
       "    </tr>\n",
       "    <tr>\n",
       "      <th>19</th>\n",
       "      <td>0.657333</td>\n",
       "    </tr>\n",
       "    <tr>\n",
       "      <th>20</th>\n",
       "      <td>0.657333</td>\n",
       "    </tr>\n",
       "  </tbody>\n",
       "</table>\n",
       "</div>"
      ],
      "text/plain": [
       "    Success @ K\n",
       "k              \n",
       "1      0.421333\n",
       "2      0.518667\n",
       "3      0.553333\n",
       "4      0.582667\n",
       "5      0.593333\n",
       "6      0.612000\n",
       "7      0.620000\n",
       "8      0.630667\n",
       "9      0.640000\n",
       "10     0.642667\n",
       "11     0.646667\n",
       "12     0.649333\n",
       "13     0.656000\n",
       "14     0.657333\n",
       "15     0.657333\n",
       "16     0.657333\n",
       "17     0.657333\n",
       "18     0.657333\n",
       "19     0.657333\n",
       "20     0.657333"
      ]
     },
     "execution_count": 11,
     "metadata": {
      "nterop": {
       "id": "25"
      }
     },
     "output_type": "execute_result"
    }
   ],
   "source": [
    "df"
   ]
  }
 ],
 "metadata": {
  "hide_input": false,
  "kernelspec": {
   "display_name": "Python 3",
   "language": "python",
   "name": "python3"
  },
  "language_info": {
   "codemirror_mode": {
    "name": "ipython",
    "version": 3
   },
   "file_extension": ".py",
   "mimetype": "text/x-python",
   "name": "python",
   "nbconvert_exporter": "python",
   "pygments_lexer": "ipython3",
   "version": "3.7.10"
  },
  "nterop": {
   "seedId": "25"
  }
 },
 "nbformat": 4,
 "nbformat_minor": 5
}
