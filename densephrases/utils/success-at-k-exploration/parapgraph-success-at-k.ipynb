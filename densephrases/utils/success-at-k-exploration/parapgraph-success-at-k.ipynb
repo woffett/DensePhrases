{
 "cells": [
  {
   "cell_type": "code",
   "execution_count": 1,
   "id": "46bea1fa",
   "metadata": {
    "nterop": {
     "id": "1"
    }
   },
   "outputs": [],
   "source": [
    "from glob import glob\n",
    "import pickle as pkl\n",
    "from typing import Callable, List\n",
    "import re\n",
    "import string\n",
    "import regex\n",
    "import unicodedata\n",
    "\n",
    "import spacy"
   ]
  },
  {
   "attachments": {},
   "cell_type": "markdown",
   "id": "5d9dc3a8",
   "metadata": {
    "nterop": {
     "id": "26"
    }
   },
   "source": [
    "### code mostly take from\n",
    "- [ColBERT](https://github.com/stanford-futuredata/ColBERT/blob/master/utility/evaluate/annotate_EM.py)\n",
    "- [DPH](https://github.com/woffett/DensePhrases/blob/main/densephrases/utils/eval_utils.py#L9-L24)"
   ]
  },
  {
   "cell_type": "code",
   "execution_count": 2,
   "id": "336baf33",
   "metadata": {
    "nterop": {
     "id": "27"
    }
   },
   "outputs": [],
   "source": [
    "# how DPH does it\n",
    "def dph_normalize_answer(s):\n",
    "    def remove_articles(text):\n",
    "        return re.sub(r'\\b(a|an|the)\\b', ' ', text)\n",
    "\n",
    "    def white_space_fix(text):\n",
    "        return ' '.join(text.split())\n",
    "\n",
    "    def remove_punc(text):\n",
    "        exclude = set(string.punctuation)\n",
    "        return ''.join(ch for ch in text if ch not in exclude)\n",
    "\n",
    "    def lower(text):\n",
    "        return text.lower()\n",
    "\n",
    "    return white_space_fix(remove_articles(remove_punc(lower(s))))\n",
    "\n",
    "\n",
    "class Tokens(object):\n",
    "    \"\"\"A class to represent a list of tokenized text.\"\"\"\n",
    "    TEXT = 0\n",
    "    TEXT_WS = 1\n",
    "    SPAN = 2\n",
    "    POS = 3\n",
    "    LEMMA = 4\n",
    "    NER = 5\n",
    "\n",
    "    def __init__(self, data, annotators, opts=None):\n",
    "        self.data = data\n",
    "        self.annotators = annotators\n",
    "        self.opts = opts or {}\n",
    "\n",
    "    def __len__(self):\n",
    "        \"\"\"The number of tokens.\"\"\"\n",
    "        return len(self.data)\n",
    "\n",
    "    def slice(self, i=None, j=None):\n",
    "        \"\"\"Return a view of the list of tokens from [i, j).\"\"\"\n",
    "        new_tokens = copy.copy(self)\n",
    "        new_tokens.data = self.data[i: j]\n",
    "        return new_tokens\n",
    "\n",
    "    def untokenize(self):\n",
    "        \"\"\"Returns the original text (with whitespace reinserted).\"\"\"\n",
    "        return ''.join([t[self.TEXT_WS] for t in self.data]).strip()\n",
    "\n",
    "    def words(self, uncased=False):\n",
    "        \"\"\"Returns a list of the text of each token\n",
    "        Args:\n",
    "            uncased: lower cases text\n",
    "        \"\"\"\n",
    "        if uncased:\n",
    "            return [t[self.TEXT].lower() for t in self.data]\n",
    "        else:\n",
    "            return [t[self.TEXT] for t in self.data]\n",
    "\n",
    "    def offsets(self):\n",
    "        \"\"\"Returns a list of [start, end) character offsets of each token.\"\"\"\n",
    "        return [t[self.SPAN] for t in self.data]\n",
    "\n",
    "    def pos(self):\n",
    "        \"\"\"Returns a list of part-of-speech tags of each token.\n",
    "        Returns None if this annotation was not included.\n",
    "        \"\"\"\n",
    "        if 'pos' not in self.annotators:\n",
    "            return None\n",
    "        return [t[self.POS] for t in self.data]\n",
    "\n",
    "    def lemmas(self):\n",
    "        \"\"\"Returns a list of the lemmatized text of each token.\n",
    "        Returns None if this annotation was not included.\n",
    "        \"\"\"\n",
    "        if 'lemma' not in self.annotators:\n",
    "            return None\n",
    "        return [t[self.LEMMA] for t in self.data]\n",
    "\n",
    "    def entities(self):\n",
    "        \"\"\"Returns a list of named-entity-recognition tags of each token.\n",
    "        Returns None if this annotation was not included.\n",
    "        \"\"\"\n",
    "        if 'ner' not in self.annotators:\n",
    "            return None\n",
    "        return [t[self.NER] for t in self.data]\n",
    "\n",
    "    def ngrams(self, n=1, uncased=False, filter_fn=None, as_strings=True):\n",
    "        \"\"\"Returns a list of all ngrams from length 1 to n.\n",
    "        Args:\n",
    "            n: upper limit of ngram length\n",
    "            uncased: lower cases text\n",
    "            filter_fn: user function that takes in an ngram list and returns\n",
    "              True or False to keep or not keep the ngram\n",
    "            as_string: return the ngram as a string vs list\n",
    "        \"\"\"\n",
    "\n",
    "        def _skip(gram):\n",
    "            if not filter_fn:\n",
    "                return False\n",
    "            return filter_fn(gram)\n",
    "\n",
    "        words = self.words(uncased)\n",
    "        ngrams = [(s, e + 1)\n",
    "                  for s in range(len(words))\n",
    "                  for e in range(s, min(s + n, len(words)))\n",
    "                  if not _skip(words[s:e + 1])]\n",
    "\n",
    "        # Concatenate into strings\n",
    "        if as_strings:\n",
    "            ngrams = ['{}'.format(' '.join(words[s:e])) for (s, e) in ngrams]\n",
    "\n",
    "        return ngrams\n",
    "\n",
    "    def entity_groups(self):\n",
    "        \"\"\"Group consecutive entity tokens with the same NER tag.\"\"\"\n",
    "        entities = self.entities()\n",
    "        if not entities:\n",
    "            return None\n",
    "        non_ent = self.opts.get('non_ent', 'O')\n",
    "        groups = []\n",
    "        idx = 0\n",
    "        while idx < len(entities):\n",
    "            ner_tag = entities[idx]\n",
    "            # Check for entity tag\n",
    "            if ner_tag != non_ent:\n",
    "                # Chomp the sequence\n",
    "                start = idx\n",
    "                while (idx < len(entities) and entities[idx] == ner_tag):\n",
    "                    idx += 1\n",
    "                groups.append((self.slice(start, idx).untokenize(), ner_tag))\n",
    "            else:\n",
    "                idx += 1\n",
    "        return groups\n",
    "\n",
    "\n",
    "class Tokenizer(object):\n",
    "    \"\"\"Base tokenizer class.\n",
    "    Tokenizers implement tokenize, which should return a Tokens class.\n",
    "    \"\"\"\n",
    "\n",
    "    def tokenize(self, text):\n",
    "        raise NotImplementedError\n",
    "\n",
    "    def shutdown(self):\n",
    "        pass\n",
    "\n",
    "    def __del__(self):\n",
    "        self.shutdown()\n",
    "\n",
    "\n",
    "class SimpleTokenizer(Tokenizer):\n",
    "    ALPHA_NUM = r'[\\p{L}\\p{N}\\p{M}]+'\n",
    "    NON_WS = r'[^\\p{Z}\\p{C}]'\n",
    "\n",
    "    def __init__(self, **kwargs):\n",
    "        \"\"\"\n",
    "        Args:\n",
    "            annotators: None or empty set (only tokenizes).\n",
    "        \"\"\"\n",
    "        self._regexp = regex.compile(\n",
    "            '(%s)|(%s)' % (self.ALPHA_NUM, self.NON_WS),\n",
    "            flags=regex.IGNORECASE + regex.UNICODE + regex.MULTILINE\n",
    "        )\n",
    "        if len(kwargs.get('annotators', {})) > 0:\n",
    "            logger.warning('%s only tokenizes! Skipping annotators: %s' %\n",
    "                           (type(self).__name__, kwargs.get('annotators')))\n",
    "        self.annotators = set()\n",
    "\n",
    "    def tokenize(self, text):\n",
    "        data = []\n",
    "        matches = [m for m in self._regexp.finditer(text)]\n",
    "        for i in range(len(matches)):\n",
    "            # Get text\n",
    "            token = matches[i].group()\n",
    "\n",
    "            # Get whitespace\n",
    "            span = matches[i].span()\n",
    "            start_ws = span[0]\n",
    "            if i + 1 < len(matches):\n",
    "                end_ws = matches[i + 1].span()[0]\n",
    "            else:\n",
    "                end_ws = span[1]\n",
    "\n",
    "            # Format data\n",
    "            data.append((\n",
    "                token,\n",
    "                text[start_ws: end_ws],\n",
    "                span,\n",
    "            ))\n",
    "        return Tokens(data, self.annotators)\n",
    "\n",
    "\n",
    "STokenizer = SimpleTokenizer()\n",
    "\n",
    "\n",
    "def DPR_tokenize(text):\n",
    "    return STokenizer.tokenize(unicodedata.normalize('NFD', text))\n",
    "\n",
    "\n",
    "def DPR_normalize(text):\n",
    "    return DPR_tokenize(text).words(uncased=True)\n",
    "\n",
    "def has_answer(tokenized_answers, text):\n",
    "    text = DPR_normalize(text)\n",
    "\n",
    "    for single_answer in tokenized_answers:\n",
    "        for i in range(0, len(text) - len(single_answer) + 1):\n",
    "            if single_answer == text[i: i + len(single_answer)]:\n",
    "                return True\n",
    "\n",
    "    return False\n",
    "\n",
    "def dpr_has_answer(passage: str, answers: List[str]) -> bool:\n",
    "    answers_tok = map(DPR_normalize, answers)\n",
    "    return has_answer(answers_tok, passage)\n",
    "\n",
    "def dph_has_answer(passage: str, answers: List[str]):\n",
    "    return any(\n",
    "        dph_normalize_answer(a) in dph_normalize_answer(passage)\n",
    "        for a in answers\n",
    "    )"
   ]
  },
  {
   "attachments": {},
   "cell_type": "markdown",
   "id": "7af1feab",
   "metadata": {
    "nterop": {
     "id": "28"
    }
   },
   "source": [
    "### sanity checks"
   ]
  },
  {
   "cell_type": "code",
   "execution_count": 3,
   "id": "5e881778",
   "metadata": {
    "nterop": {
     "id": "29"
    }
   },
   "outputs": [],
   "source": [
    "assert dpr_has_answer('hello this is some long text', ['text', 'some long!'])\n",
    "assert dpr_has_answer('HeLLo ThIs is some text!@ yellow', ['this is some'])\n",
    "assert dph_has_answer('heLLo thIs is some Text!@ yellow', ['this is'])\n",
    "assert dph_has_answer('Text!@ yellow', ['text yellow'])\n",
    "assert not dph_has_answer('this is text', ['hello'])"
   ]
  },
  {
   "attachments": {},
   "cell_type": "markdown",
   "id": "98fda17d",
   "metadata": {
    "nterop": {
     "id": "2"
    }
   },
   "source": [
    "### get data"
   ]
  },
  {
   "cell_type": "code",
   "execution_count": 4,
   "id": "6d3048d3",
   "metadata": {
    "nterop": {
     "id": "3"
    }
   },
   "outputs": [
    {
     "name": "stdout",
     "output_type": "stream",
     "text": [
      "-rw-r--r-- 1 root root  25K May 30 00:51 answers.pkl\r\n",
      "-rw-r--r-- 1 root root 8.1M May 30 00:51 evidences.pkl\r\n",
      "-rw-r--r-- 1 root root 238K May 30 00:51 predictions.pkl\r\n",
      "-rw-r--r-- 1 root root  14K May 30 00:51 qids.pkl\r\n",
      "-rw-r--r-- 1 root root    4 May 30 00:51 q_tokens.pkl\r\n",
      "-rw-r--r-- 1 root root  42K May 30 00:51 questions.pkl\r\n",
      "-rw-r--r-- 1 root root  95K May 30 00:51 scores.pkl\r\n",
      "-rw-r--r-- 1 root root 347K May 30 00:51 titles.pkl\r\n"
     ]
    }
   ],
   "source": [
    "!ls -lh *.pkl"
   ]
  },
  {
   "cell_type": "code",
   "execution_count": 5,
   "id": "9d6d1d65",
   "metadata": {
    "nterop": {
     "id": "4"
    }
   },
   "outputs": [
    {
     "data": {
      "text/plain": [
       "dict_keys(['questions', 'answers', 'scores', 'titles', 'qids', 'predictions', 'evidences'])"
      ]
     },
     "execution_count": 5,
     "metadata": {
      "nterop": {
       "id": "30"
      }
     },
     "output_type": "execute_result"
    }
   ],
   "source": [
    "vals = {\n",
    "    f.split('.pkl')[0]: pkl.load(open(f, 'rb'))\n",
    "    for f in glob('*.pkl')\n",
    "    if 'q_tokens' not in f  # this is empty\n",
    "}\n",
    "iters = ['answers', 'scores', 'titles', 'predictions', 'evidences']\n",
    "vals.keys()"
   ]
  },
  {
   "attachments": {},
   "cell_type": "markdown",
   "id": "da9039fa",
   "metadata": {
    "nterop": {
     "id": "6"
    }
   },
   "source": [
    "### evidence <=> paragraph"
   ]
  },
  {
   "cell_type": "code",
   "execution_count": 6,
   "id": "afdb6a4e",
   "metadata": {
    "nterop": {
     "id": "7"
    }
   },
   "outputs": [
    {
     "data": {
      "text/plain": [
       "'Today\\'s autodialer supposedly runs a smarter software, claiming a less than 2% hangup rate. However, most telemarketing companies place thousands of calls an hour, bringing that 2% back up to an annoying level. Ray Bradbury wrote a story, \"Number of the ghost - 777888999\", about a telephone switch box that gained sentience. Its first order of business in the world, stalking. Eventually the person documenting the calls traced it down to a specific phone box and was summarily executed by said box through electrocution.'"
      ]
     },
     "execution_count": 6,
     "metadata": {
      "nterop": {
       "id": "31"
      }
     },
     "output_type": "execute_result"
    }
   ],
   "source": [
    "vals['evidences'][0][0]"
   ]
  },
  {
   "attachments": {},
   "cell_type": "markdown",
   "id": "384301de",
   "metadata": {
    "nterop": {
     "id": "9"
    }
   },
   "source": [
    "### sanity check: predictions are extracted from the \"evidence\""
   ]
  },
  {
   "cell_type": "code",
   "execution_count": 7,
   "id": "d72e04ab",
   "metadata": {
    "nterop": {
     "id": "10"
    }
   },
   "outputs": [
    {
     "data": {
      "text/plain": [
       "['electrocution.',\n",
       " 'nasal fracture',\n",
       " 'spasmodic dysphonia.',\n",
       " 'exaggerated jaw vibrato\"',\n",
       " 'straining his vocal cords',\n",
       " 'kidney failure',\n",
       " 'Botox shots',\n",
       " 'weak',\n",
       " 'drugs',\n",
       " 'a bizarre accident',\n",
       " 'A middle ear infection',\n",
       " 'falling from a ladder',\n",
       " 'scarlet fever and measles.',\n",
       " 'throat cancer surgery',\n",
       " 'digitally erased',\n",
       " 'abductor spasmodic dysphonia,']"
      ]
     },
     "execution_count": 7,
     "metadata": {
      "nterop": {
       "id": "32"
      }
     },
     "output_type": "execute_result"
    }
   ],
   "source": [
    "vals['predictions'][0]"
   ]
  },
  {
   "cell_type": "code",
   "execution_count": 8,
   "id": "cd4442e8",
   "metadata": {
    "nterop": {
     "id": "12"
    }
   },
   "outputs": [
    {
     "data": {
      "text/plain": [
       "'electrocution.'"
      ]
     },
     "execution_count": 8,
     "metadata": {
      "nterop": {
       "id": "33"
      }
     },
     "output_type": "execute_result"
    }
   ],
   "source": [
    "vals['predictions'][0][0]"
   ]
  },
  {
   "cell_type": "code",
   "execution_count": 9,
   "id": "b062beff",
   "metadata": {
    "nterop": {
     "id": "14"
    }
   },
   "outputs": [],
   "source": [
    "assert all(\n",
    "    p in e\n",
    "    for es, ps in zip(vals['evidences'], vals['predictions'])\n",
    "    for e, p in zip(es, ps)\n",
    ")"
   ]
  },
  {
   "attachments": {},
   "cell_type": "markdown",
   "id": "ace6c07e",
   "metadata": {
    "nterop": {
     "id": "15"
    }
   },
   "source": [
    "### sanity check: make sure things are the same length"
   ]
  },
  {
   "cell_type": "code",
   "execution_count": 10,
   "id": "7e15b337",
   "metadata": {
    "nterop": {
     "id": "16"
    }
   },
   "outputs": [],
   "source": [
    "assert all(\n",
    "    len(s) == len(e) == len(p) == len(t)\n",
    "    for s, e, p, t in zip(\n",
    "        vals['scores'],\n",
    "        vals['evidences'],\n",
    "        vals['predictions'],\n",
    "        vals['titles'],\n",
    "    )\n",
    ")"
   ]
  },
  {
   "attachments": {},
   "cell_type": "markdown",
   "id": "cb126191",
   "metadata": {
    "nterop": {
     "id": "17"
    }
   },
   "source": [
    "### sanity check: all scores are sorted"
   ]
  },
  {
   "cell_type": "code",
   "execution_count": 11,
   "id": "9b22b20d",
   "metadata": {
    "nterop": {
     "id": "18"
    }
   },
   "outputs": [],
   "source": [
    "assert all(\n",
    "    s == sorted(s, reverse=True)\n",
    "    for s in vals['scores']\n",
    ")"
   ]
  },
  {
   "attachments": {},
   "cell_type": "markdown",
   "id": "3d8a046e",
   "metadata": {
    "nterop": {
     "id": "19"
    }
   },
   "source": [
    "### success @ k"
   ]
  },
  {
   "cell_type": "code",
   "execution_count": 12,
   "id": "2b81899b",
   "metadata": {
    "nterop": {
     "id": "20"
    }
   },
   "outputs": [],
   "source": [
    "# takes passage and list of answers, returns bool\n",
    "HasAnswerFn = Callable[[str, List[str]], bool]\n",
    "\n",
    "def success_at_k_one(\n",
    "    answers: List[str],\n",
    "    evidences: List[str],\n",
    "    k: int,\n",
    "    has_answer_fn: HasAnswerFn,\n",
    ") -> bool:\n",
    "    \"\"\"\n",
    "    for a single instance.\n",
    "    \n",
    "    any of the answers is found in the top k evidence / paragraph\n",
    "    this assumes that the evidence is in the same sorted order as `scores`\n",
    "    \"\"\"\n",
    "    return any(\n",
    "        has_answer_fn(e, answers)\n",
    "        for e in evidences[:k]\n",
    "    )\n",
    "\n",
    "def success_at_k(\n",
    "    answers: List[List[int]],\n",
    "    evidences: List[List[str]],\n",
    "    k: int,\n",
    "    has_answer_fn: HasAnswerFn = dph_has_answer,\n",
    ") -> float:\n",
    "    \"\"\"\n",
    "    for a collection. just count the fraction of success@k's.\n",
    "    \"\"\"\n",
    "    n = len(answers)\n",
    "    return sum(\n",
    "        success_at_k_one(a, e, k, has_answer_fn)\n",
    "        for a, e in zip(answers, evidences)\n",
    "    ) / n"
   ]
  },
  {
   "attachments": {},
   "cell_type": "markdown",
   "id": "aa3edee0",
   "metadata": {
    "nterop": {
     "id": "21"
    }
   },
   "source": [
    "### compute for different values of `k`"
   ]
  },
  {
   "cell_type": "code",
   "execution_count": 14,
   "id": "0e10a453",
   "metadata": {
    "nterop": {
     "id": "22"
    }
   },
   "outputs": [],
   "source": [
    "has_answer_fns = [\n",
    "    ('DPH', dph_has_answer),\n",
    "    ('DPR', dpr_has_answer),\n",
    "]\n",
    "ks = range(1, 20 + 1)\n",
    "df = pd.DataFrame(\n",
    "    {\n",
    "        \"k\": k,\n",
    "        \"method\": name, \n",
    "        \"Success @ K\": success_at_k(\n",
    "            vals['answers'],\n",
    "            vals['evidences'],\n",
    "            k,\n",
    "            has_answer_fn=fn,\n",
    "        ),\n",
    "    }\n",
    "    for k in ks\n",
    "    for name, fn in has_answer_fns\n",
    ")"
   ]
  },
  {
   "cell_type": "code",
   "execution_count": 15,
   "id": "8bc81beb",
   "metadata": {
    "nterop": {
     "id": "24"
    }
   },
   "outputs": [
    {
     "data": {
      "image/png": "[encoded data removed]",
      "text/plain": [
       "<Figure size 864x576 with 1 Axes>"
      ]
     },
     "metadata": {
      "needs_background": "light",
      "nterop": {
       "id": "34"
      }
     },
     "output_type": "display_data"
    }
   ],
   "source": [
    "df.pivot_table(values='Success @ K', index='k', columns='method').plot(figsize=(12, 8))\n",
    "_ = plt.ylim([0, 1])"
   ]
  },
  {
   "cell_type": "code",
   "execution_count": null,
   "id": "2169137a",
   "metadata": {
    "nterop": {
     "id": "35"
    }
   },
   "outputs": [],
   "source": []
  }
 ],
 "metadata": {
  "hide_input": false,
  "kernelspec": {
   "display_name": "Python 3",
   "language": "python",
   "name": "python3"
  },
  "language_info": {
   "codemirror_mode": {
    "name": "ipython",
    "version": 3
   },
   "file_extension": ".py",
   "mimetype": "text/x-python",
   "name": "python",
   "nbconvert_exporter": "python",
   "pygments_lexer": "ipython3",
   "version": "3.7.10"
  },
  "nterop": {
   "seedId": "35"
  }
 },
 "nbformat": 4,
 "nbformat_minor": 5
}
